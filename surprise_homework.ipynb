{
 "cells": [
  {
   "cell_type": "markdown",
   "metadata": {},
   "source": [
    "# Surprise homework"
   ]
  },
  {
   "cell_type": "code",
   "execution_count": 1,
   "metadata": {},
   "outputs": [],
   "source": [
    "import io\n",
    "import pandas as pd\n",
    "from surprise import get_dataset_dir\n",
    "\n",
    "from collections import defaultdict"
   ]
  },
  {
   "cell_type": "markdown",
   "metadata": {},
   "source": [
    "### Functions"
   ]
  },
  {
   "cell_type": "code",
   "execution_count": 2,
   "metadata": {},
   "outputs": [],
   "source": [
    "from surprise import Dataset\n",
    "from surprise import SVD\n",
    "from surprise import accuracy\n",
    "\n",
    "from surprise.model_selection import cross_validate\n",
    "from surprise.model_selection import train_test_split"
   ]
  },
  {
   "cell_type": "markdown",
   "metadata": {},
   "source": [
    "### Load data"
   ]
  },
  {
   "cell_type": "code",
   "execution_count": 3,
   "metadata": {},
   "outputs": [],
   "source": [
    "data = Dataset.load_builtin('ml-100k')"
   ]
  },
  {
   "cell_type": "code",
   "execution_count": 4,
   "metadata": {},
   "outputs": [],
   "source": [
    "K = 30\n",
    "trainset, testset = train_test_split(data, test_size=.25)"
   ]
  },
  {
   "cell_type": "markdown",
   "metadata": {},
   "source": [
    "### Define algorithms"
   ]
  },
  {
   "cell_type": "code",
   "execution_count": 5,
   "metadata": {},
   "outputs": [],
   "source": [
    "from surprise import NormalPredictor\n",
    "from surprise import SVD\n",
    "from surprise import KNNBasic\n",
    "\n",
    "algorithms_rsma = {}\n",
    "algorithms = {\n",
    "    \"n_p\": NormalPredictor(),\n",
    "    \"kNN_cos\": KNNBasic(k = K, sim_options = {'name': 'cosine'}),\n",
    "    \"kNN_MSD\": KNNBasic(k = K),\n",
    "    \"kNN_Pearson\": KNNBasic(k = K, sim_options = {'name': 'pearson'}),\n",
    "    \"SVD\" : SVD()\n",
    "}"
   ]
  },
  {
   "cell_type": "markdown",
   "metadata": {},
   "source": [
    "### Select algorithm"
   ]
  },
  {
   "cell_type": "code",
   "execution_count": 6,
   "metadata": {},
   "outputs": [
    {
     "name": "stdout",
     "output_type": "stream",
     "text": [
      "Evaluating RMSE of algorithm NormalPredictor on 5 split(s).\n",
      "\n",
      "                  Fold 1  Fold 2  Fold 3  Fold 4  Fold 5  Mean    Std     \n",
      "RMSE (testset)    1.5281  1.5270  1.5102  1.5263  1.5176  1.5218  0.0069  \n",
      "Fit time          0.09    0.11    0.12    0.13    0.11    0.11    0.01    \n",
      "Test time         0.14    0.11    0.15    0.17    0.12    0.14    0.02    \n",
      "Computing the cosine similarity matrix...\n",
      "Done computing similarity matrix.\n",
      "Computing the cosine similarity matrix...\n",
      "Done computing similarity matrix.\n",
      "Computing the cosine similarity matrix...\n",
      "Done computing similarity matrix.\n",
      "Computing the cosine similarity matrix...\n",
      "Done computing similarity matrix.\n",
      "Computing the cosine similarity matrix...\n",
      "Done computing similarity matrix.\n",
      "Evaluating RMSE of algorithm KNNBasic on 5 split(s).\n",
      "\n",
      "                  Fold 1  Fold 2  Fold 3  Fold 4  Fold 5  Mean    Std     \n",
      "RMSE (testset)    1.0114  1.0149  1.0171  1.0259  1.0231  1.0185  0.0053  \n",
      "Fit time          1.50    1.50    1.51    1.48    1.50    1.50    0.01    \n",
      "Test time         2.66    2.69    2.66    2.69    2.70    2.68    0.02    \n",
      "Computing the msd similarity matrix...\n",
      "Done computing similarity matrix.\n",
      "Computing the msd similarity matrix...\n",
      "Done computing similarity matrix.\n",
      "Computing the msd similarity matrix...\n",
      "Done computing similarity matrix.\n",
      "Computing the msd similarity matrix...\n",
      "Done computing similarity matrix.\n",
      "Computing the msd similarity matrix...\n",
      "Done computing similarity matrix.\n",
      "Evaluating RMSE of algorithm KNNBasic on 5 split(s).\n",
      "\n",
      "                  Fold 1  Fold 2  Fold 3  Fold 4  Fold 5  Mean    Std     \n",
      "RMSE (testset)    0.9798  0.9787  0.9765  0.9704  0.9761  0.9763  0.0033  \n",
      "Fit time          0.50    0.50    0.51    0.51    0.51    0.51    0.00    \n",
      "Test time         2.62    2.67    2.70    2.63    2.67    2.66    0.03    \n",
      "Computing the pearson similarity matrix...\n",
      "Done computing similarity matrix.\n",
      "Computing the pearson similarity matrix...\n",
      "Done computing similarity matrix.\n",
      "Computing the pearson similarity matrix...\n",
      "Done computing similarity matrix.\n",
      "Computing the pearson similarity matrix...\n",
      "Done computing similarity matrix.\n",
      "Computing the pearson similarity matrix...\n",
      "Done computing similarity matrix.\n",
      "Evaluating RMSE of algorithm KNNBasic on 5 split(s).\n",
      "\n",
      "                  Fold 1  Fold 2  Fold 3  Fold 4  Fold 5  Mean    Std     \n",
      "RMSE (testset)    1.0223  1.0074  1.0056  1.0154  1.0193  1.0140  0.0065  \n",
      "Fit time          1.85    1.91    1.85    1.92    2.01    1.91    0.06    \n",
      "Test time         2.64    2.66    2.71    3.24    2.83    2.82    0.22    \n",
      "Evaluating RMSE of algorithm SVD on 5 split(s).\n",
      "\n",
      "                  Fold 1  Fold 2  Fold 3  Fold 4  Fold 5  Mean    Std     \n",
      "RMSE (testset)    0.9261  0.9384  0.9419  0.9375  0.9332  0.9354  0.0054  \n",
      "Fit time          4.62    4.60    4.83    4.69    4.71    4.69    0.08    \n",
      "Test time         0.18    0.16    0.13    0.18    0.15    0.16    0.02    \n"
     ]
    }
   ],
   "source": [
    "for [name, algo] in algorithms.items():\n",
    "    cv = cross_validate(algo, data, measures=['RMSE'], verbose=True)\n",
    "    algorithms_rsma[name] = cv['test_rmse'].mean()"
   ]
  },
  {
   "cell_type": "markdown",
   "metadata": {},
   "source": [
    "### Calculate precision@k and recall@k"
   ]
  },
  {
   "cell_type": "code",
   "execution_count": 7,
   "metadata": {},
   "outputs": [
    {
     "name": "stdout",
     "output_type": "stream",
     "text": [
      "('SVD', 0.9354326161299209)\n",
      "0.7589961117002478\n",
      "0.36829599628734816\n"
     ]
    }
   ],
   "source": [
    "#Определим самый быстрый алгоритм\n",
    "fastest_algorithm = min(algorithms_rsma.items(), key=lambda i: i[1])\n",
    "print(fastest_algorithm)\n",
    "precision_algorithm = algorithms[fastest_algorithm[0]]\n",
    "\n",
    "def precision_recall_at_k(predictions, k, threshold):\n",
    "    \"Return precision and recall at k metrics for each user\"\n",
    "\n",
    "    # First map the predictions to each user.\n",
    "    user_est_true = defaultdict(list)\n",
    "    for uid, _, true_r, est, _ in predictions:\n",
    "        user_est_true[uid].append((est, true_r))\n",
    "\n",
    "    precisions = dict()\n",
    "    recalls = dict()\n",
    "    for uid, user_ratings in user_est_true.items():\n",
    "\n",
    "        # Sort user ratings by estimated value\n",
    "        user_ratings.sort(key=lambda x: x[0], reverse=True)\n",
    "\n",
    "        # Number of relevant items\n",
    "        n_rel = sum((true_r >= threshold) for (_, true_r) in user_ratings)\n",
    "\n",
    "        # Number of recommended items in top k\n",
    "        n_rec_k = sum((est >= threshold) for (est, _) in user_ratings[:k])\n",
    "\n",
    "        # Number of relevant and recommended items in top k\n",
    "        n_rel_and_rec_k = sum(((true_r >= threshold) and (est >= threshold))\n",
    "                              for (est, true_r) in user_ratings[:k])\n",
    "\n",
    "        # Precision@K: Proportion of recommended items that are relevant\n",
    "        # When n_rec_k is 0, Precision is undefined. We here set it to 0.\n",
    "\n",
    "        precisions[uid] = n_rel_and_rec_k / n_rec_k if n_rec_k != 0 else 0\n",
    "\n",
    "        # Recall@K: Proportion of relevant items that are recommended\n",
    "        # When n_rel is 0, Recall is undefined. We here set it to 0.\n",
    "\n",
    "        recalls[uid] = n_rel_and_rec_k / n_rel if n_rel != 0 else 0\n",
    "\n",
    "    return precisions, recalls\n",
    "precision_algorithm.fit(trainset)\n",
    "predictions = precision_algorithm.test(testset)\n",
    "\n",
    "precisions, recalls = precision_recall_at_k(predictions, k=5, threshold=3.52)\n",
    "\n",
    "# Precision and recall averaged over all users\n",
    "precision_at_k = sum(prec for prec in precisions.values()) / len(precisions)\n",
    "recall_at_k = sum(rec for rec in recalls.values()) / len(recalls)\n",
    "\n",
    "print(precision_at_k)\n",
    "print(recall_at_k)"
   ]
  },
  {
   "cell_type": "markdown",
   "metadata": {},
   "source": [
    "### Predict"
   ]
  },
  {
   "cell_type": "code",
   "execution_count": 8,
   "metadata": {
    "scrolled": true
   },
   "outputs": [],
   "source": [
    "# обратите внимание на функцию build_anti_testset\n",
    "k = 5\n",
    "user_index = '16'\n",
    "\n",
    "precision_algorithm.fit(trainset)\n",
    "testset = trainset.build_anti_testset()\n",
    "predictions = precision_algorithm.test(testset)\n",
    "\n",
    "user_predictions = list(filter(lambda x: x.uid == user_index, predictions))\n",
    "unrated_tuple = sorted(user_predictions, key=lambda x: x.est, reverse=True)[0:k]\n",
    "\n",
    "def get_movie_info(urated_tuple):\n",
    "    data = pd.read_csv(get_dataset_dir() + '/ml-100k/ml-100k/u.item', sep='|',encoding='ISO-8859-1', header = None) \n",
    "    movie_info = {}\n",
    "    for movie_id in urated_tuple:\n",
    "        row = data.iloc[int(movie_id)]\n",
    "        movie_info[movie_id] = (row[1], row[2])\n",
    "    return movie_info\n",
    "movie_info = get_movie_info(list(map(lambda x: x[1], unrated_tuple)))"
   ]
  },
  {
   "cell_type": "markdown",
   "metadata": {},
   "source": [
    "### Запись в файл"
   ]
  },
  {
   "cell_type": "code",
   "execution_count": 9,
   "metadata": {},
   "outputs": [
    {
     "name": "stdout",
     "output_type": "stream",
     "text": [
      "User 16\n",
      "603 ('It Happened One Night (1934)', '01-Jan-1934') 5\n",
      "318 ('Everyone Says I Love You (1996)', '06-Dec-1996') 5\n",
      "408 ('Jack (1996)', '07-Aug-1996') 5\n",
      "313 ('3 Ninjas: High Noon At Mega Mountain (1998)', '01-Jan-1997') 5\n",
      "251 ('Lost World: Jurassic Park, The (1997)', '23-May-1997') 5\n"
     ]
    }
   ],
   "source": [
    "file = open(\"task2.2_Korop.txt\", \"w\")\n",
    "file.write('User ' + user_index + \"\\n\")\n",
    "print('User ' + user_index)\n",
    "for movie in unrated_tuple:\n",
    "    file.write('{}, {}, {}'.format(movie[1], movie_info[movie[1]], round(movie[3], 3)))\n",
    "    file.write(\"\\n\")\n",
    "    print(movie[1],movie_info[movie[1]], movie[3])\n",
    "file.close()"
   ]
  },
  {
   "cell_type": "code",
   "execution_count": null,
   "metadata": {},
   "outputs": [],
   "source": []
  }
 ],
 "metadata": {
  "kernelspec": {
   "display_name": "Python 3",
   "language": "python",
   "name": "python3"
  },
  "language_info": {
   "codemirror_mode": {
    "name": "ipython",
    "version": 3
   },
   "file_extension": ".py",
   "mimetype": "text/x-python",
   "name": "python",
   "nbconvert_exporter": "python",
   "pygments_lexer": "ipython3",
   "version": "3.8.5"
  }
 },
 "nbformat": 4,
 "nbformat_minor": 2
}
