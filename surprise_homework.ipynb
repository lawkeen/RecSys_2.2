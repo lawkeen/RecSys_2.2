{
 "cells": [
  {
   "cell_type": "markdown",
   "metadata": {},
   "source": [
    "# Surprise homework"
   ]
  },
  {
   "cell_type": "code",
   "execution_count": 1,
   "metadata": {},
   "outputs": [],
   "source": [
    "import io\n",
    "import pandas as pd\n",
    "from surprise import get_dataset_dir\n",
    "\n",
    "from collections import defaultdict"
   ]
  },
  {
   "cell_type": "markdown",
   "metadata": {},
   "source": [
    "### Functions"
   ]
  },
  {
   "cell_type": "code",
   "execution_count": 2,
   "metadata": {},
   "outputs": [],
   "source": [
    "from surprise import Dataset\n",
    "from surprise import SVD\n",
    "from surprise import accuracy\n",
    "\n",
    "from surprise.model_selection import cross_validate\n",
    "from surprise.model_selection import train_test_split"
   ]
  },
  {
   "cell_type": "markdown",
   "metadata": {},
   "source": [
    "### Load data"
   ]
  },
  {
   "cell_type": "code",
   "execution_count": 3,
   "metadata": {},
   "outputs": [],
   "source": [
    "data = Dataset.load_builtin('ml-100k')"
   ]
  },
  {
   "cell_type": "code",
   "execution_count": 4,
   "metadata": {},
   "outputs": [],
   "source": [
    "K = 30\n",
    "trainset, testset = train_test_split(data, test_size=.25)"
   ]
  },
  {
   "cell_type": "markdown",
   "metadata": {},
   "source": [
    "### Define algorithms"
   ]
  },
  {
   "cell_type": "code",
   "execution_count": 5,
   "metadata": {},
   "outputs": [],
   "source": [
    "from surprise import NormalPredictor\n",
    "from surprise import SVD\n",
    "from surprise import KNNWithMeans\n",
    "\n",
    "algorithms_rsma = {}\n",
    "algorithms = {\n",
    "    \"n_p\": NormalPredictor(),\n",
    "    \"kNN_cos\": KNNWithMeans(k = K, sim_options = {'name': 'cosine'}),\n",
    "    \"kNN_MSD\": KNNWithMeans(k = K),\n",
    "    \"kNN_Pearson\": KNNWithMeans(k = K, sim_options = {'name': 'pearson'}),\n",
    "    \"SVD\" : SVD()\n",
    "}"
   ]
  },
  {
   "cell_type": "markdown",
   "metadata": {},
   "source": [
    "### Select algorithm"
   ]
  },
  {
   "cell_type": "code",
   "execution_count": 6,
   "metadata": {},
   "outputs": [
    {
     "name": "stdout",
     "output_type": "stream",
     "text": [
      "Evaluating RMSE of algorithm NormalPredictor on 5 split(s).\n",
      "\n",
      "                  Fold 1  Fold 2  Fold 3  Fold 4  Fold 5  Mean    Std     \n",
      "RMSE (testset)    1.5169  1.5142  1.5280  1.5162  1.5180  1.5187  0.0049  \n",
      "Fit time          0.12    0.12    0.13    0.10    0.12    0.12    0.01    \n",
      "Test time         0.16    0.12    0.16    0.15    0.13    0.15    0.02    \n",
      "Computing the cosine similarity matrix...\n",
      "Done computing similarity matrix.\n",
      "Computing the cosine similarity matrix...\n",
      "Done computing similarity matrix.\n",
      "Computing the cosine similarity matrix...\n",
      "Done computing similarity matrix.\n",
      "Computing the cosine similarity matrix...\n",
      "Done computing similarity matrix.\n",
      "Computing the cosine similarity matrix...\n",
      "Done computing similarity matrix.\n",
      "Evaluating RMSE of algorithm KNNWithMeans on 5 split(s).\n",
      "\n",
      "                  Fold 1  Fold 2  Fold 3  Fold 4  Fold 5  Mean    Std     \n",
      "RMSE (testset)    0.9584  0.9627  0.9534  0.9565  0.9581  0.9578  0.0030  \n",
      "Fit time          1.50    1.56    1.45    1.50    1.59    1.52    0.05    \n",
      "Test time         3.05    2.82    2.92    3.11    2.97    2.97    0.10    \n",
      "Computing the msd similarity matrix...\n",
      "Done computing similarity matrix.\n",
      "Computing the msd similarity matrix...\n",
      "Done computing similarity matrix.\n",
      "Computing the msd similarity matrix...\n",
      "Done computing similarity matrix.\n",
      "Computing the msd similarity matrix...\n",
      "Done computing similarity matrix.\n",
      "Computing the msd similarity matrix...\n",
      "Done computing similarity matrix.\n",
      "Evaluating RMSE of algorithm KNNWithMeans on 5 split(s).\n",
      "\n",
      "                  Fold 1  Fold 2  Fold 3  Fold 4  Fold 5  Mean    Std     \n",
      "RMSE (testset)    0.9600  0.9513  0.9525  0.9521  0.9478  0.9527  0.0040  \n",
      "Fit time          0.56    0.51    0.50    0.55    0.52    0.53    0.03    \n",
      "Test time         2.85    2.93    2.92    2.87    3.00    2.92    0.05    \n",
      "Computing the pearson similarity matrix...\n",
      "Done computing similarity matrix.\n",
      "Computing the pearson similarity matrix...\n",
      "Done computing similarity matrix.\n",
      "Computing the pearson similarity matrix...\n",
      "Done computing similarity matrix.\n",
      "Computing the pearson similarity matrix...\n",
      "Done computing similarity matrix.\n",
      "Computing the pearson similarity matrix...\n",
      "Done computing similarity matrix.\n",
      "Evaluating RMSE of algorithm KNNWithMeans on 5 split(s).\n",
      "\n",
      "                  Fold 1  Fold 2  Fold 3  Fold 4  Fold 5  Mean    Std     \n",
      "RMSE (testset)    0.9492  0.9489  0.9512  0.9574  0.9530  0.9520  0.0031  \n",
      "Fit time          2.08    2.00    1.97    1.90    1.87    1.96    0.08    \n",
      "Test time         3.13    3.05    2.90    2.97    2.80    2.97    0.12    \n",
      "Evaluating RMSE of algorithm SVD on 5 split(s).\n",
      "\n",
      "                  Fold 1  Fold 2  Fold 3  Fold 4  Fold 5  Mean    Std     \n",
      "RMSE (testset)    0.9343  0.9318  0.9399  0.9422  0.9302  0.9357  0.0046  \n",
      "Fit time          4.52    4.25    4.69    4.67    4.55    4.53    0.16    \n",
      "Test time         0.19    0.16    0.13    0.20    0.14    0.17    0.03    \n"
     ]
    }
   ],
   "source": [
    "for [name, algo] in algorithms.items():\n",
    "    cv = cross_validate(algo, data, measures=['RMSE'], verbose=True)\n",
    "    algorithms_rsma[name] = cv['test_rmse'].mean()"
   ]
  },
  {
   "cell_type": "markdown",
   "metadata": {},
   "source": [
    "### Calculate precision@k and recall@k"
   ]
  },
  {
   "cell_type": "code",
   "execution_count": 7,
   "metadata": {},
   "outputs": [
    {
     "name": "stdout",
     "output_type": "stream",
     "text": [
      "('SVD', 0.9356722113886086)\n",
      "0.7379109225874864\n",
      "0.3684181101197005\n"
     ]
    }
   ],
   "source": [
    "#Определим самый быстрый алгоритм\n",
    "fastest_algorithm = min(algorithms_rsma.items(), key=lambda i: i[1])\n",
    "print(fastest_algorithm)\n",
    "precision_algorithm = algorithms[fastest_algorithm[0]]\n",
    "\n",
    "def precision_recall_at_k(predictions, k, threshold):\n",
    "    \"Return precision and recall at k metrics for each user\"\n",
    "\n",
    "    # First map the predictions to each user.\n",
    "    user_est_true = defaultdict(list)\n",
    "    for uid, _, true_r, est, _ in predictions:\n",
    "        user_est_true[uid].append((est, true_r))\n",
    "\n",
    "    precisions = dict()\n",
    "    recalls = dict()\n",
    "    for uid, user_ratings in user_est_true.items():\n",
    "\n",
    "        # Sort user ratings by estimated value\n",
    "        user_ratings.sort(key=lambda x: x[0], reverse=True)\n",
    "\n",
    "        # Number of relevant items\n",
    "        n_rel = sum((true_r >= threshold) for (_, true_r) in user_ratings)\n",
    "\n",
    "        # Number of recommended items in top k\n",
    "        n_rec_k = sum((est >= threshold) for (est, _) in user_ratings[:k])\n",
    "\n",
    "        # Number of relevant and recommended items in top k\n",
    "        n_rel_and_rec_k = sum(((true_r >= threshold) and (est >= threshold))\n",
    "                              for (est, true_r) in user_ratings[:k])\n",
    "\n",
    "        # Precision@K: Proportion of recommended items that are relevant\n",
    "        # When n_rec_k is 0, Precision is undefined. We here set it to 0.\n",
    "\n",
    "        precisions[uid] = n_rel_and_rec_k / n_rec_k if n_rec_k != 0 else 0\n",
    "\n",
    "        # Recall@K: Proportion of relevant items that are recommended\n",
    "        # When n_rel is 0, Recall is undefined. We here set it to 0.\n",
    "\n",
    "        recalls[uid] = n_rel_and_rec_k / n_rel if n_rel != 0 else 0\n",
    "\n",
    "    return precisions, recalls\n",
    "precision_algorithm.fit(trainset)\n",
    "predictions = precision_algorithm.test(testset)\n",
    "\n",
    "precisions, recalls = precision_recall_at_k(predictions, k=5, threshold=3.52)\n",
    "\n",
    "# Precision and recall averaged over all users\n",
    "precision_at_k = sum(prec for prec in precisions.values()) / len(precisions)\n",
    "recall_at_k = sum(rec for rec in recalls.values()) / len(recalls)\n",
    "\n",
    "print(precision_at_k)\n",
    "print(recall_at_k)"
   ]
  },
  {
   "cell_type": "markdown",
   "metadata": {},
   "source": [
    "### Predict"
   ]
  },
  {
   "cell_type": "code",
   "execution_count": 8,
   "metadata": {
    "scrolled": true
   },
   "outputs": [],
   "source": [
    "# обратите внимание на функцию build_anti_testset\n",
    "k = 5\n",
    "user_index = '16'\n",
    "\n",
    "precision_algorithm.fit(trainset)\n",
    "testset = trainset.build_anti_testset()\n",
    "predictions = precision_algorithm.test(testset)\n",
    "\n",
    "user_predictions = list(filter(lambda x: x.uid == user_index, predictions))\n",
    "unrated_tuple = sorted(user_predictions, key=lambda x: x.est, reverse=True)[0:k]\n",
    "\n",
    "def get_movie_info(urated_tuple):\n",
    "    data = pd.read_csv(get_dataset_dir() + '/ml-100k/ml-100k/u.item', sep='|',encoding='ISO-8859-1', header = None) \n",
    "    movie_info = {}\n",
    "    for movie_id in urated_tuple:\n",
    "        row = data.iloc[int(movie_id)]\n",
    "        movie_info[movie_id] = (row[1], row[2])\n",
    "    return movie_info\n",
    "movie_info = get_movie_info(list(map(lambda x: x[1], unrated_tuple)))"
   ]
  },
  {
   "cell_type": "markdown",
   "metadata": {},
   "source": [
    "### Запись в файл"
   ]
  },
  {
   "cell_type": "code",
   "execution_count": 9,
   "metadata": {},
   "outputs": [
    {
     "name": "stdout",
     "output_type": "stream",
     "text": [
      "User 16\n",
      "408 ('Jack (1996)', '07-Aug-1996') 5\n",
      "169 ('Cinema Paradiso (1988)', '01-Jan-1988') 5\n",
      "22 ('Taxi Driver (1976)', '16-Feb-1996') 5\n",
      "12 ('Mighty Aphrodite (1995)', '30-Oct-1995') 4.995386042950577\n",
      "651 ('Rosencrantz and Guildenstern Are Dead (1990)', '01-Jan-1990') 4.975425681235239\n"
     ]
    }
   ],
   "source": [
    "file = open(\"task2.2_Korop.txt\", \"w\")\n",
    "file.write('User ' + user_index + \"\\n\")\n",
    "print('User ' + user_index)\n",
    "for movie in unrated_tuple:\n",
    "    file.write('{}, {}, {}'.format(movie[1], movie_info[movie[1]], round(movie[3], 3)))\n",
    "    file.write(\"\\n\")\n",
    "    print(movie[1],movie_info[movie[1]], movie[3])\n",
    "file.close()"
   ]
  },
  {
   "cell_type": "code",
   "execution_count": null,
   "metadata": {},
   "outputs": [],
   "source": []
  }
 ],
 "metadata": {
  "kernelspec": {
   "display_name": "Python 3",
   "language": "python",
   "name": "python3"
  },
  "language_info": {
   "codemirror_mode": {
    "name": "ipython",
    "version": 3
   },
   "file_extension": ".py",
   "mimetype": "text/x-python",
   "name": "python",
   "nbconvert_exporter": "python",
   "pygments_lexer": "ipython3",
   "version": "3.8.5"
  }
 },
 "nbformat": 4,
 "nbformat_minor": 2
}
